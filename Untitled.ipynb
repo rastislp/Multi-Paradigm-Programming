{
 "cells": [
  {
   "cell_type": "markdown",
   "metadata": {},
   "source": [
    "# Multi paradigm programming"
   ]
  },
  {
   "cell_type": "markdown",
   "metadata": {},
   "source": [
    "## coding in C and Python"
   ]
  },
  {
   "cell_type": "markdown",
   "metadata": {},
   "source": [
    "***"
   ]
  },
  {
   "cell_type": "markdown",
   "metadata": {},
   "source": [
    "Write a program that prints ‘Hello World’ to the screen."
   ]
  },
  {
   "cell_type": "markdown",
   "metadata": {},
   "source": [
    "#include <stdio.h>\n",
    "\n",
    "int main()\n",
    "{\n",
    "\tprintf(\"Hello, World\\n\");\n",
    "\treturn 0;\n",
    "}"
   ]
  },
  {
   "cell_type": "code",
   "execution_count": 2,
   "metadata": {},
   "outputs": [
    {
     "name": "stdout",
     "output_type": "stream",
     "text": [
      "Hello World\n"
     ]
    }
   ],
   "source": [
    "print(\"Hello World\")"
   ]
  },
  {
   "cell_type": "markdown",
   "metadata": {},
   "source": [
    "***"
   ]
  },
  {
   "cell_type": "markdown",
   "metadata": {},
   "source": [
    "Write a program that asks the user for their name and greets them with their name."
   ]
  },
  {
   "cell_type": "markdown",
   "metadata": {},
   "source": [
    "#include <stdio.h>\n",
    "\n",
    "int main()\n",
    "{\n",
    "\tchar name[20];\n",
    "\t\n",
    "\tprintf(\"What is your name?\");\n",
    "\t\n",
    "\tfgets(name,20,stdin);\n",
    "\t\n",
    "\tprintf(\"Hello %s\", name);\n",
    "\t\n",
    "\treturn 0;\n",
    "}"
   ]
  },
  {
   "cell_type": "markdown",
   "metadata": {},
   "source": [
    "name = raw_input(\"What is your name?\")\n",
    "print(\"Hello %s, How are you?\" %(name))"
   ]
  },
  {
   "cell_type": "markdown",
   "metadata": {},
   "source": [
    "***"
   ]
  },
  {
   "cell_type": "markdown",
   "metadata": {},
   "source": [
    "Modify the previous program such that only the users Alice and Bob are greeted with their names."
   ]
  },
  {
   "cell_type": "markdown",
   "metadata": {},
   "source": [
    "#include <stdio.h>\n",
    "#include <string.h>\n",
    "\n",
    "int main()\n",
    "{\n",
    "\tchar* name;\n",
    "\t\n",
    "\tprintf(\"What is your name?\");\n",
    "\t\t\n",
    "\tgets(name);\n",
    "\t\n",
    "\tif ((strcmp(name,\"Alice\")==0) || (strcmp(name,\"Bob\")==0))\n",
    "\t{\n",
    "\t\tprintf(\"Hello %s\\n\", name);\t\n",
    "\t} else \n",
    "\t{\n",
    "\t\tprintf(\"Hello lowly peasant!\\n\");\n",
    "\t}\n",
    "\t\n",
    "\treturn 0;\n",
    "}"
   ]
  },
  {
   "cell_type": "markdown",
   "metadata": {},
   "source": [
    "name = raw_input(\"What is your name?\")"
   ]
  },
  {
   "cell_type": "markdown",
   "metadata": {},
   "source": [
    "if (name==\"Bob\") or (name==\"Alice\"):"
   ]
  },
  {
   "cell_type": "markdown",
   "metadata": {},
   "source": [
    "    print(\"Hello %s, How are you?\" %(name))"
   ]
  },
  {
   "cell_type": "markdown",
   "metadata": {},
   "source": [
    "else:"
   ]
  },
  {
   "cell_type": "markdown",
   "metadata": {},
   "source": [
    "\n",
    "    print(\"Hello lowly peasant!\")"
   ]
  },
  {
   "cell_type": "markdown",
   "metadata": {},
   "source": [
    "***"
   ]
  },
  {
   "cell_type": "markdown",
   "metadata": {},
   "source": [
    "Write a program that asks the user for a number n and prints the sum of the numbers 1 to n"
   ]
  },
  {
   "cell_type": "markdown",
   "metadata": {},
   "source": [
    "#include <stdio.h>\n",
    "#include <string.h>\n",
    "\n",
    "int main()\n",
    "{\n",
    "\tint n;\n",
    "\tint sum = 0;\n",
    "\t\n",
    "\tprintf(\"Please enter a Number: \");\n",
    "\tscanf(\"%d\", &n);\n",
    "\t\n",
    "\tfor(int i = 1; i<=n; i++)\n",
    "\t{\n",
    "\t\tsum += i;\n",
    "\t}\n",
    "\t\n",
    "\tprintf(\"The sum of 1 to %d, was %d\\n\", n, sum);\n",
    "\t\t\n",
    "\treturn 0;\n",
    "}"
   ]
  },
  {
   "cell_type": "markdown",
   "metadata": {},
   "source": [
    "n = input(\"Enter a number: \")\n",
    "\n",
    "sum = 0\n",
    "\n",
    "for i in range(1,n+1):\n",
    "    sum = sum + i\n",
    "\n",
    "print(\"The sum of 1 to %d, was %d\" % (n, sum))"
   ]
  },
  {
   "cell_type": "markdown",
   "metadata": {},
   "source": [
    "***"
   ]
  },
  {
   "cell_type": "markdown",
   "metadata": {},
   "source": [
    "Modify the previous program such that only multiples of three or five are considered in the sum, e.g. 3, 5, 6, 9, 10, 12, 15 for n=17"
   ]
  },
  {
   "cell_type": "markdown",
   "metadata": {},
   "source": [
    "#include <stdio.h>\n",
    "#include <string.h>\n",
    "\n",
    "int main()\n",
    "{\n",
    "\tint n;\n",
    "\tint sum = 0;\n",
    "\t\n",
    "\tprintf(\"Please enter a Number: \");\n",
    "\tscanf(\"%d\", &n);\n",
    "\t\n",
    "\tfor(int i = 1; i<=n; i++)\n",
    "\t{\n",
    "\t\tif (((i%3)==0) || ((i%5)==0)) \n",
    "\t\t{\n",
    "\t\t\tsum += i;\n",
    "\t\t}\n",
    "\t}\n",
    "\t\n",
    "\tprintf(\"The sum of 1 to %d, was %d\\n\", n, sum);\n",
    "\t\t\n",
    "\treturn 0;\n",
    "}"
   ]
  },
  {
   "cell_type": "markdown",
   "metadata": {},
   "source": [
    "n = input(\"Enter a number: \")\n",
    "\n",
    "sum = 0\n",
    "\n",
    "for i in range(1,n+1):\n",
    "    if ((i % 3)==0) or ((1 % 5)==0):\n",
    "        print i\n",
    "        sum = sum + i\n",
    "\n",
    "print(\"The sum of 1 to %d, was %d\" % (n, sum))"
   ]
  },
  {
   "cell_type": "markdown",
   "metadata": {},
   "source": [
    "***"
   ]
  },
  {
   "cell_type": "markdown",
   "metadata": {},
   "source": [
    "Write a program that asks the user for a number n and gives them the possibility to choose between computing the sum and computing the product of 1,…,n."
   ]
  },
  {
   "cell_type": "markdown",
   "metadata": {},
   "source": [
    "#include <stdio.h>\n",
    "#include <string.h>\n",
    "#include <stdlib.h>\n",
    "\n",
    "int main()\n",
    "{\n",
    "\tint n, sum = 0;\n",
    "\tint product = 1;\n",
    "\tchar* choice = (char*) malloc(10 * sizeof(char));\n",
    "\t\t\n",
    "\tprintf(\"Please enter a Number: \");\n",
    "\tscanf(\"%d\", &n);\n",
    "\tprintf(\"Do you want to do product or sum?\");\n",
    "\tscanf(\"%s\", choice);\n",
    "\t\t\n",
    "\tif (strcmp(choice, \"product\")==0)\n",
    "\t{\n",
    "\t\tfor(int i = 1; i<=n; i++)\n",
    "\t\t{\n",
    "\t\t\tproduct *= i;\n",
    "\t\t}\n",
    "\t\n",
    "\t\tprintf(\"The product of 1 to %d, was %d\\n\", n, product);\n",
    "\t\t\n",
    "\t} else if (strcmp(choice, \"sum\")==0)\n",
    "\t{\n",
    "\t\tfor(int i = 1; i<=n; i++)\n",
    "\t\t{\n",
    "\t\t\tsum += i;\n",
    "\t\t}\n",
    "\t\n",
    "\t\tprintf(\"The sum of 1 to %d, was %d\\n\", n, sum);\n",
    "\t\t\n",
    "\t}\n",
    "\treturn 0;\n",
    "}"
   ]
  },
  {
   "cell_type": "markdown",
   "metadata": {},
   "source": [
    "n = input(\"Enter a number: \")\n",
    "kind = raw_input(\"Do you want to do sum or product? \")\n",
    "\n",
    "sum = 0\n",
    "product = 1\n",
    "\n",
    "if (kind == \"sum\"):\n",
    "    for i in range(1,n+1):\n",
    "        sum = sum + i\n",
    "    print(\"The sum of 1 to %d, was %d\" % (n, sum))\n",
    "elif (kind == \"product\"):\n",
    "    for i in range(1,n+1):\n",
    "        product = product * i\n",
    "    print(\"The product of 1 to %d, was %d\" % (n, product))\n",
    "else:\n",
    "    print(\"I did not understand your request\")\n"
   ]
  },
  {
   "cell_type": "markdown",
   "metadata": {},
   "source": [
    "***"
   ]
  },
  {
   "cell_type": "code",
   "execution_count": null,
   "metadata": {},
   "outputs": [],
   "source": []
  }
 ],
 "metadata": {
  "kernelspec": {
   "display_name": "Python 3",
   "language": "python",
   "name": "python3"
  },
  "language_info": {
   "codemirror_mode": {
    "name": "ipython",
    "version": 3
   },
   "file_extension": ".py",
   "mimetype": "text/x-python",
   "name": "python",
   "nbconvert_exporter": "python",
   "pygments_lexer": "ipython3",
   "version": "3.7.4"
  }
 },
 "nbformat": 4,
 "nbformat_minor": 4
}
